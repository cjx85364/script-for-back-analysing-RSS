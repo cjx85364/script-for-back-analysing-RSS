{
 "cells": [
  {
   "cell_type": "code",
   "execution_count": 1,
   "metadata": {},
   "outputs": [],
   "source": [
    "import numpy as np\n",
    "import pandas as pd\n",
    "from test_cov import sample,calculate_pro,calculate_all,cov_cal\n",
    "import random"
   ]
  },
  {
   "cell_type": "code",
   "execution_count": 2,
   "metadata": {},
   "outputs": [
    {
     "name": "stdout",
     "output_type": "stream",
     "text": [
      "            slope   c  weight  fai   PGA  landslide       cl\n",
      "153888  34.305401  40    26.5   44  0.70          0  granite\n",
      "245914  18.212299  40    26.5   44  0.84          0  granite\n",
      "134602  44.498699  40    26.5   44  0.68          0  granite\n",
      "183591  45.616501  40    26.5   44  0.72          0  granite\n",
      "231335  24.338200  40    26.5   44  0.90          0  granite\n",
      "...           ...  ..     ...  ...   ...        ...      ...\n",
      "338852  43.382500  40    26.5   44  0.98          0  granite\n",
      "9505    62.528900  40    26.5   44  0.44          0  granite\n",
      "349352  37.549099  29    26.0   39  0.94          0     sand\n",
      "65178   26.694300  40    26.5   44  0.68          0  granite\n",
      "156739  36.161499  40    26.5   44  0.72          0  granite\n",
      "\n",
      "[10000 rows x 7 columns]\n"
     ]
    }
   ],
   "source": [
    "data=pd.read_csv (\"data stable.csv\",sep=\",\",encoding=\"gbk\",header=0)\n",
    "num_rows = data.shape[0]\n",
    "# there we show a quick runing process by using 10000 unfailed points. To run all,the good quality computer server is necessary \n",
    "random_indices = random.sample(range(num_rows),10000)\n",
    "data = data.iloc[random_indices]\n",
    "print(data)"
   ]
  },
  {
   "cell_type": "code",
   "execution_count": 3,
   "metadata": {},
   "outputs": [],
   "source": [
    "cl=np.array(data[\"cl\"])"
   ]
  },
  {
   "cell_type": "code",
   "execution_count": 4,
   "metadata": {},
   "outputs": [],
   "source": [
    "pga=np.array(data[\"PGA\"])\n",
    "slope=np.array(data[\"slope\"])\n",
    "land=np.array(data[\"landslide\"])"
   ]
  },
  {
   "cell_type": "code",
   "execution_count": null,
   "metadata": {},
   "outputs": [],
   "source": [
    "# there we need to assign a thickness,staring point,end point,and interval for cov of cohesion   \n",
    "# we use a example that cov from 0.1 to 0.6 with 0.1 interval and thickness equal to 5m\n",
    "pro=cov_cal(0.1,0.6,0.1,cl,5,slope,pga)"
   ]
  },
  {
   "cell_type": "code",
   "execution_count": null,
   "metadata": {},
   "outputs": [],
   "source": [
    "# print result. the result show we need more large cov range \n",
    "pro"
   ]
  },
  {
   "cell_type": "code",
   "execution_count": null,
   "metadata": {},
   "outputs": [],
   "source": [
    "pro1=cov_cal(0.6,1.8,0.2,cl,5,slope,pga)"
   ]
  },
  {
   "cell_type": "code",
   "execution_count": null,
   "metadata": {},
   "outputs": [],
   "source": [
    "# this simple test show the best cov should between 1.4 to 1.6\n",
    "pro1"
   ]
  },
  {
   "cell_type": "code",
   "execution_count": null,
   "metadata": {},
   "outputs": [],
   "source": []
  },
  {
   "cell_type": "code",
   "execution_count": null,
   "metadata": {},
   "outputs": [],
   "source": []
  }
 ],
 "metadata": {
  "kernelspec": {
   "display_name": "Python",
   "language": "python",
   "name": "python3"
  },
  "language_info": {
   "codemirror_mode": {
    "name": "ipython",
    "version": 3
   },
   "file_extension": ".py",
   "mimetype": "text/x-python",
   "name": "python",
   "nbconvert_exporter": "python",
   "pygments_lexer": "ipython3",
   "version": "3.8.10"
  }
 },
 "nbformat": 4,
 "nbformat_minor": 4
}
